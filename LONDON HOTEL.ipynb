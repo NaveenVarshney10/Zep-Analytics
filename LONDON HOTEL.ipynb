{
 "cells": [
  {
   "cell_type": "code",
   "execution_count": 1,
   "id": "4e77419a",
   "metadata": {},
   "outputs": [],
   "source": [
    "import pandas as pd\n",
    "import numpy as np"
   ]
  },
  {
   "cell_type": "code",
   "execution_count": 43,
   "id": "17a55c44",
   "metadata": {},
   "outputs": [],
   "source": [
    "pd.set_option(\"display.max_rows\", None)"
   ]
  },
  {
   "cell_type": "code",
   "execution_count": 44,
   "id": "261398e9",
   "metadata": {
    "scrolled": false
   },
   "outputs": [],
   "source": [
    "df = pd.read_csv('London_hotel_reviews.csv')\n"
   ]
  },
  {
   "cell_type": "code",
   "execution_count": 45,
   "id": "e43610de",
   "metadata": {},
   "outputs": [
    {
     "data": {
      "text/html": [
       "<div>\n",
       "<style scoped>\n",
       "    .dataframe tbody tr th:only-of-type {\n",
       "        vertical-align: middle;\n",
       "    }\n",
       "\n",
       "    .dataframe tbody tr th {\n",
       "        vertical-align: top;\n",
       "    }\n",
       "\n",
       "    .dataframe thead th {\n",
       "        text-align: right;\n",
       "    }\n",
       "</style>\n",
       "<table border=\"1\" class=\"dataframe\">\n",
       "  <thead>\n",
       "    <tr style=\"text-align: right;\">\n",
       "      <th></th>\n",
       "      <th>Property Name</th>\n",
       "      <th>Review Rating</th>\n",
       "      <th>Review Title</th>\n",
       "      <th>Review Text</th>\n",
       "      <th>Location Of The Reviewer</th>\n",
       "      <th>Date Of Review</th>\n",
       "    </tr>\n",
       "  </thead>\n",
       "  <tbody>\n",
       "    <tr>\n",
       "      <th>0</th>\n",
       "      <td>Apex London Wall Hotel</td>\n",
       "      <td>5.0</td>\n",
       "      <td>Ottima qualità prezzo</td>\n",
       "      <td>Siamo stati a Londra per un week end ed abbiam...</td>\n",
       "      <td>Casale Monferrato, Italy</td>\n",
       "      <td>10/20/2012</td>\n",
       "    </tr>\n",
       "    <tr>\n",
       "      <th>1</th>\n",
       "      <td>Corinthia Hotel London</td>\n",
       "      <td>5.0</td>\n",
       "      <td>By far, my best hotel in the world</td>\n",
       "      <td>I had a pleasure of staying in this hotel for ...</td>\n",
       "      <td>Savannah, Georgia</td>\n",
       "      <td>3/23/2016</td>\n",
       "    </tr>\n",
       "    <tr>\n",
       "      <th>2</th>\n",
       "      <td>The Savoy</td>\n",
       "      <td>5.0</td>\n",
       "      <td>First visit to the American Bar at the Savoy</td>\n",
       "      <td>A very lovely first visit to this iconic hotel...</td>\n",
       "      <td>London</td>\n",
       "      <td>7/30/2013</td>\n",
       "    </tr>\n",
       "    <tr>\n",
       "      <th>3</th>\n",
       "      <td>Rhodes Hotel</td>\n",
       "      <td>4.0</td>\n",
       "      <td>Nice stay</td>\n",
       "      <td>3 of us stayed at the Rhodes Hotel for 4 night...</td>\n",
       "      <td>Maui, Hawaii</td>\n",
       "      <td>06-02-2012</td>\n",
       "    </tr>\n",
       "    <tr>\n",
       "      <th>4</th>\n",
       "      <td>The Savoy</td>\n",
       "      <td>5.0</td>\n",
       "      <td>Perfection</td>\n",
       "      <td>Form the moment we arrived until we left we ex...</td>\n",
       "      <td>London, United Kingdom</td>\n",
       "      <td>11/24/2017</td>\n",
       "    </tr>\n",
       "  </tbody>\n",
       "</table>\n",
       "</div>"
      ],
      "text/plain": [
       "            Property Name  Review Rating  \\\n",
       "0  Apex London Wall Hotel            5.0   \n",
       "1  Corinthia Hotel London            5.0   \n",
       "2               The Savoy            5.0   \n",
       "3            Rhodes Hotel            4.0   \n",
       "4               The Savoy            5.0   \n",
       "\n",
       "                                   Review Title  \\\n",
       "0                         Ottima qualità prezzo   \n",
       "1            By far, my best hotel in the world   \n",
       "2  First visit to the American Bar at the Savoy   \n",
       "3                                     Nice stay   \n",
       "4                                    Perfection   \n",
       "\n",
       "                                         Review Text  \\\n",
       "0  Siamo stati a Londra per un week end ed abbiam...   \n",
       "1  I had a pleasure of staying in this hotel for ...   \n",
       "2  A very lovely first visit to this iconic hotel...   \n",
       "3  3 of us stayed at the Rhodes Hotel for 4 night...   \n",
       "4  Form the moment we arrived until we left we ex...   \n",
       "\n",
       "   Location Of The Reviewer Date Of Review  \n",
       "0  Casale Monferrato, Italy     10/20/2012  \n",
       "1         Savannah, Georgia      3/23/2016  \n",
       "2                    London      7/30/2013  \n",
       "3              Maui, Hawaii     06-02-2012  \n",
       "4    London, United Kingdom     11/24/2017  "
      ]
     },
     "execution_count": 45,
     "metadata": {},
     "output_type": "execute_result"
    }
   ],
   "source": [
    "df.head()\n"
   ]
  },
  {
   "cell_type": "code",
   "execution_count": 46,
   "id": "7de3c92a",
   "metadata": {},
   "outputs": [
    {
     "data": {
      "text/html": [
       "<div>\n",
       "<style scoped>\n",
       "    .dataframe tbody tr th:only-of-type {\n",
       "        vertical-align: middle;\n",
       "    }\n",
       "\n",
       "    .dataframe tbody tr th {\n",
       "        vertical-align: top;\n",
       "    }\n",
       "\n",
       "    .dataframe thead th {\n",
       "        text-align: right;\n",
       "    }\n",
       "</style>\n",
       "<table border=\"1\" class=\"dataframe\">\n",
       "  <thead>\n",
       "    <tr style=\"text-align: right;\">\n",
       "      <th></th>\n",
       "      <th>Property Name</th>\n",
       "      <th>Review Rating</th>\n",
       "      <th>Review Title</th>\n",
       "      <th>Review Text</th>\n",
       "      <th>Location Of The Reviewer</th>\n",
       "      <th>Date Of Review</th>\n",
       "    </tr>\n",
       "  </thead>\n",
       "  <tbody>\n",
       "    <tr>\n",
       "      <th>27326</th>\n",
       "      <td>Corinthia Hotel London</td>\n",
       "      <td>5.0</td>\n",
       "      <td>The Best 5 star Luxury Hotel in London</td>\n",
       "      <td>I come to London often but since I stayed in t...</td>\n",
       "      <td>Munich, Germany</td>\n",
       "      <td>12-12-2015</td>\n",
       "    </tr>\n",
       "    <tr>\n",
       "      <th>27327</th>\n",
       "      <td>A To Z Hotel</td>\n",
       "      <td>3.0</td>\n",
       "      <td>Mala Estadia</td>\n",
       "      <td>En cuarto que nos tocó no había toallas y habí...</td>\n",
       "      <td>Mexico City, Mexico</td>\n",
       "      <td>9/29/2015</td>\n",
       "    </tr>\n",
       "    <tr>\n",
       "      <th>27328</th>\n",
       "      <td>The Rembrandt</td>\n",
       "      <td>4.0</td>\n",
       "      <td>Excellent hotel in outstanding location</td>\n",
       "      <td>This is a quality quiet hotel located in an ex...</td>\n",
       "      <td>Adelaide, Australia</td>\n",
       "      <td>07-11-2017</td>\n",
       "    </tr>\n",
       "    <tr>\n",
       "      <th>27329</th>\n",
       "      <td>The Dorchester</td>\n",
       "      <td>4.0</td>\n",
       "      <td>Trevliga rum, men högljud AC</td>\n",
       "      <td>Väldigt vackra rum, tyvärr med en mycket höglj...</td>\n",
       "      <td>Gothenburg, Sweden</td>\n",
       "      <td>05-06-2014</td>\n",
       "    </tr>\n",
       "    <tr>\n",
       "      <th>27330</th>\n",
       "      <td>The Savoy</td>\n",
       "      <td>5.0</td>\n",
       "      <td>Great as always</td>\n",
       "      <td>I have been staying in London hotels for 10 ye...</td>\n",
       "      <td>Ballymena, United Kingdom</td>\n",
       "      <td>4/24/2017</td>\n",
       "    </tr>\n",
       "  </tbody>\n",
       "</table>\n",
       "</div>"
      ],
      "text/plain": [
       "                Property Name  Review Rating  \\\n",
       "27326  Corinthia Hotel London            5.0   \n",
       "27327            A To Z Hotel            3.0   \n",
       "27328           The Rembrandt            4.0   \n",
       "27329          The Dorchester            4.0   \n",
       "27330               The Savoy            5.0   \n",
       "\n",
       "                                  Review Title  \\\n",
       "27326   The Best 5 star Luxury Hotel in London   \n",
       "27327                             Mala Estadia   \n",
       "27328  Excellent hotel in outstanding location   \n",
       "27329             Trevliga rum, men högljud AC   \n",
       "27330                          Great as always   \n",
       "\n",
       "                                             Review Text  \\\n",
       "27326  I come to London often but since I stayed in t...   \n",
       "27327  En cuarto que nos tocó no había toallas y habí...   \n",
       "27328  This is a quality quiet hotel located in an ex...   \n",
       "27329  Väldigt vackra rum, tyvärr med en mycket höglj...   \n",
       "27330  I have been staying in London hotels for 10 ye...   \n",
       "\n",
       "        Location Of The Reviewer Date Of Review  \n",
       "27326            Munich, Germany     12-12-2015  \n",
       "27327        Mexico City, Mexico      9/29/2015  \n",
       "27328        Adelaide, Australia     07-11-2017  \n",
       "27329         Gothenburg, Sweden     05-06-2014  \n",
       "27330  Ballymena, United Kingdom      4/24/2017  "
      ]
     },
     "execution_count": 46,
     "metadata": {},
     "output_type": "execute_result"
    }
   ],
   "source": [
    "df.tail()"
   ]
  },
  {
   "cell_type": "code",
   "execution_count": 47,
   "id": "3d76418c",
   "metadata": {},
   "outputs": [
    {
     "data": {
      "text/plain": [
       "(27331, 6)"
      ]
     },
     "execution_count": 47,
     "metadata": {},
     "output_type": "execute_result"
    }
   ],
   "source": [
    "df.shape"
   ]
  },
  {
   "cell_type": "code",
   "execution_count": 48,
   "id": "81682e80",
   "metadata": {},
   "outputs": [
    {
     "data": {
      "text/plain": [
       "Property Name                  1\n",
       "Review Rating                  1\n",
       "Review Title                   1\n",
       "Review Text                    1\n",
       "Location Of The Reviewer    3954\n",
       "Date Of Review                 2\n",
       "dtype: int64"
      ]
     },
     "execution_count": 48,
     "metadata": {},
     "output_type": "execute_result"
    }
   ],
   "source": [
    "df.isnull().sum()"
   ]
  },
  {
   "cell_type": "code",
   "execution_count": 49,
   "id": "0022ccd4",
   "metadata": {},
   "outputs": [
    {
     "name": "stdout",
     "output_type": "stream",
     "text": [
      "<class 'pandas.core.frame.DataFrame'>\n",
      "RangeIndex: 27331 entries, 0 to 27330\n",
      "Data columns (total 6 columns):\n",
      " #   Column                    Non-Null Count  Dtype  \n",
      "---  ------                    --------------  -----  \n",
      " 0   Property Name             27330 non-null  object \n",
      " 1   Review Rating             27330 non-null  float64\n",
      " 2   Review Title              27330 non-null  object \n",
      " 3   Review Text               27330 non-null  object \n",
      " 4   Location Of The Reviewer  23377 non-null  object \n",
      " 5   Date Of Review            27329 non-null  object \n",
      "dtypes: float64(1), object(5)\n",
      "memory usage: 1.3+ MB\n"
     ]
    }
   ],
   "source": [
    "df.info()"
   ]
  },
  {
   "cell_type": "code",
   "execution_count": 50,
   "id": "b71e3163",
   "metadata": {},
   "outputs": [
    {
     "data": {
      "text/html": [
       "<div>\n",
       "<style scoped>\n",
       "    .dataframe tbody tr th:only-of-type {\n",
       "        vertical-align: middle;\n",
       "    }\n",
       "\n",
       "    .dataframe tbody tr th {\n",
       "        vertical-align: top;\n",
       "    }\n",
       "\n",
       "    .dataframe thead th {\n",
       "        text-align: right;\n",
       "    }\n",
       "</style>\n",
       "<table border=\"1\" class=\"dataframe\">\n",
       "  <thead>\n",
       "    <tr style=\"text-align: right;\">\n",
       "      <th></th>\n",
       "      <th>Property Name</th>\n",
       "      <th>Review Rating</th>\n",
       "      <th>Review Title</th>\n",
       "      <th>Review Text</th>\n",
       "      <th>Location Of The Reviewer</th>\n",
       "      <th>Date Of Review</th>\n",
       "    </tr>\n",
       "  </thead>\n",
       "  <tbody>\n",
       "    <tr>\n",
       "      <th>0</th>\n",
       "      <td>Apex London Wall Hotel</td>\n",
       "      <td>5.0</td>\n",
       "      <td>Ottima qualità prezzo</td>\n",
       "      <td>Siamo stati a Londra per un week end ed abbiam...</td>\n",
       "      <td>Casale Monferrato, Italy</td>\n",
       "      <td>10/20/2012</td>\n",
       "    </tr>\n",
       "    <tr>\n",
       "      <th>1</th>\n",
       "      <td>Corinthia Hotel London</td>\n",
       "      <td>5.0</td>\n",
       "      <td>By far, my best hotel in the world</td>\n",
       "      <td>I had a pleasure of staying in this hotel for ...</td>\n",
       "      <td>Savannah, Georgia</td>\n",
       "      <td>3/23/2016</td>\n",
       "    </tr>\n",
       "    <tr>\n",
       "      <th>2</th>\n",
       "      <td>The Savoy</td>\n",
       "      <td>5.0</td>\n",
       "      <td>First visit to the American Bar at the Savoy</td>\n",
       "      <td>A very lovely first visit to this iconic hotel...</td>\n",
       "      <td>London</td>\n",
       "      <td>7/30/2013</td>\n",
       "    </tr>\n",
       "    <tr>\n",
       "      <th>3</th>\n",
       "      <td>Rhodes Hotel</td>\n",
       "      <td>4.0</td>\n",
       "      <td>Nice stay</td>\n",
       "      <td>3 of us stayed at the Rhodes Hotel for 4 night...</td>\n",
       "      <td>Maui, Hawaii</td>\n",
       "      <td>06-02-2012</td>\n",
       "    </tr>\n",
       "    <tr>\n",
       "      <th>4</th>\n",
       "      <td>The Savoy</td>\n",
       "      <td>5.0</td>\n",
       "      <td>Perfection</td>\n",
       "      <td>Form the moment we arrived until we left we ex...</td>\n",
       "      <td>London, United Kingdom</td>\n",
       "      <td>11/24/2017</td>\n",
       "    </tr>\n",
       "  </tbody>\n",
       "</table>\n",
       "</div>"
      ],
      "text/plain": [
       "            Property Name  Review Rating  \\\n",
       "0  Apex London Wall Hotel            5.0   \n",
       "1  Corinthia Hotel London            5.0   \n",
       "2               The Savoy            5.0   \n",
       "3            Rhodes Hotel            4.0   \n",
       "4               The Savoy            5.0   \n",
       "\n",
       "                                   Review Title  \\\n",
       "0                         Ottima qualità prezzo   \n",
       "1            By far, my best hotel in the world   \n",
       "2  First visit to the American Bar at the Savoy   \n",
       "3                                     Nice stay   \n",
       "4                                    Perfection   \n",
       "\n",
       "                                         Review Text  \\\n",
       "0  Siamo stati a Londra per un week end ed abbiam...   \n",
       "1  I had a pleasure of staying in this hotel for ...   \n",
       "2  A very lovely first visit to this iconic hotel...   \n",
       "3  3 of us stayed at the Rhodes Hotel for 4 night...   \n",
       "4  Form the moment we arrived until we left we ex...   \n",
       "\n",
       "   Location Of The Reviewer Date Of Review  \n",
       "0  Casale Monferrato, Italy     10/20/2012  \n",
       "1         Savannah, Georgia      3/23/2016  \n",
       "2                    London      7/30/2013  \n",
       "3              Maui, Hawaii     06-02-2012  \n",
       "4    London, United Kingdom     11/24/2017  "
      ]
     },
     "execution_count": 50,
     "metadata": {},
     "output_type": "execute_result"
    }
   ],
   "source": [
    "#creating a copy of original dataset:\n",
    "\n",
    "new_df=df.copy()\n",
    "new_df.head()"
   ]
  },
  {
   "cell_type": "code",
   "execution_count": 51,
   "id": "c126af9b",
   "metadata": {},
   "outputs": [
    {
     "name": "stdout",
     "output_type": "stream",
     "text": [
      "Index(['Property Name', 'Review Title', 'Review Text',\n",
      "       'Location Of The Reviewer', 'Date Of Review'],\n",
      "      dtype='object')\n"
     ]
    }
   ],
   "source": [
    "# Checking how many attributes are dtype: object\n",
    "\n",
    "obj = new_df.select_dtypes(include = \"object\").columns\n",
    "print (obj)"
   ]
  },
  {
   "cell_type": "code",
   "execution_count": 52,
   "id": "de63c571",
   "metadata": {},
   "outputs": [
    {
     "name": "stdout",
     "output_type": "stream",
     "text": [
      "Index(['Review Rating'], dtype='object')\n"
     ]
    }
   ],
   "source": [
    "# Checking how many atrributes are dtype:float64\n",
    "flo = new_df.select_dtypes(include = \"float64\").columns\n",
    "print(flo)"
   ]
  },
  {
   "cell_type": "code",
   "execution_count": 53,
   "id": "346ac3a4",
   "metadata": {},
   "outputs": [
    {
     "data": {
      "text/plain": [
       "count    27330.000000\n",
       "mean         4.490999\n",
       "std          0.891704\n",
       "min          1.000000\n",
       "25%          4.000000\n",
       "50%          5.000000\n",
       "75%          5.000000\n",
       "max          5.000000\n",
       "Name: Review Rating, dtype: float64"
      ]
     },
     "execution_count": 53,
     "metadata": {},
     "output_type": "execute_result"
    }
   ],
   "source": [
    "new_df[\"Review Rating\"].describe()"
   ]
  },
  {
   "cell_type": "code",
   "execution_count": 54,
   "id": "6bfb972c",
   "metadata": {},
   "outputs": [
    {
     "data": {
      "text/plain": [
       "5.0"
      ]
     },
     "execution_count": 54,
     "metadata": {},
     "output_type": "execute_result"
    }
   ],
   "source": [
    "import statistics as st\n",
    "import numpy as np\n",
    "\n",
    "mode_value = st.mode(new_df[\"Review Rating\"])\n",
    "mode_value"
   ]
  },
  {
   "cell_type": "code",
   "execution_count": 55,
   "id": "40bb611d",
   "metadata": {},
   "outputs": [],
   "source": [
    "new_df[\"Review Rating\"].fillna(value=mode_value, inplace=True)"
   ]
  },
  {
   "cell_type": "code",
   "execution_count": 56,
   "id": "110427c3",
   "metadata": {},
   "outputs": [
    {
     "data": {
      "text/plain": [
       "Property Name                  1\n",
       "Review Rating                  0\n",
       "Review Title                   1\n",
       "Review Text                    1\n",
       "Location Of The Reviewer    3954\n",
       "Date Of Review                 2\n",
       "dtype: int64"
      ]
     },
     "execution_count": 56,
     "metadata": {},
     "output_type": "execute_result"
    }
   ],
   "source": [
    "new_df.isnull().sum()"
   ]
  },
  {
   "cell_type": "code",
   "execution_count": 57,
   "id": "0ff96d6f",
   "metadata": {},
   "outputs": [
    {
     "data": {
      "text/plain": [
       "count    27331.000000\n",
       "mean         4.491018\n",
       "std          0.891693\n",
       "min          1.000000\n",
       "25%          4.000000\n",
       "50%          5.000000\n",
       "75%          5.000000\n",
       "max          5.000000\n",
       "Name: Review Rating, dtype: float64"
      ]
     },
     "execution_count": 57,
     "metadata": {},
     "output_type": "execute_result"
    }
   ],
   "source": [
    "new_df[\"Review Rating\"].describe()"
   ]
  },
  {
   "cell_type": "code",
   "execution_count": 58,
   "id": "c76437d5",
   "metadata": {},
   "outputs": [],
   "source": [
    "gy = new_df.groupby(\"Review Rating\")"
   ]
  },
  {
   "cell_type": "code",
   "execution_count": 59,
   "id": "8c3ddc40",
   "metadata": {},
   "outputs": [
    {
     "data": {
      "text/plain": [
       "Review Rating\n",
       "1.0      617\n",
       "2.0      691\n",
       "3.0     1675\n",
       "4.0     6020\n",
       "5.0    18327\n",
       "Name: Property Name, dtype: int64"
      ]
     },
     "execution_count": 59,
     "metadata": {},
     "output_type": "execute_result"
    }
   ],
   "source": [
    "gy.count()['Property Name']"
   ]
  },
  {
   "cell_type": "code",
   "execution_count": 60,
   "id": "58296ab5",
   "metadata": {},
   "outputs": [],
   "source": [
    "df = pd.DataFrame({'Review Rating':['1', '2', '3','4','5'], 'freq':[617,691,1675,6020,18327]})"
   ]
  },
  {
   "cell_type": "code",
   "execution_count": 61,
   "id": "73e08224",
   "metadata": {},
   "outputs": [
    {
     "data": {
      "image/png": "[encoded data removed]",
      "text/plain": [
       "<Figure size 432x288 with 1 Axes>"
      ]
     },
     "metadata": {
      "needs_background": "light"
     },
     "output_type": "display_data"
    }
   ],
   "source": [
    "box = df.plot.bar(x='Review Rating', y='freq', rot=0)\n"
   ]
  },
  {
   "cell_type": "code",
   "execution_count": 62,
   "id": "3666b003",
   "metadata": {},
   "outputs": [
    {
     "ename": "NameError",
     "evalue": "name 'plt' is not defined",
     "output_type": "error",
     "traceback": [
      "\u001b[1;31m---------------------------------------------------------------------------\u001b[0m",
      "\u001b[1;31mNameError\u001b[0m                                 Traceback (most recent call last)",
      "Input \u001b[1;32mIn [62]\u001b[0m, in \u001b[0;36m<cell line: 1>\u001b[1;34m()\u001b[0m\n\u001b[1;32m----> 1\u001b[0m \u001b[43mplt\u001b[49m\u001b[38;5;241m.\u001b[39mshow()\n",
      "\u001b[1;31mNameError\u001b[0m: name 'plt' is not defined"
     ]
    }
   ],
   "source": [
    "plt.show()"
   ]
  },
  {
   "cell_type": "code",
   "execution_count": 63,
   "id": "d4a70105",
   "metadata": {},
   "outputs": [
    {
     "data": {
      "text/html": [
       "<div>\n",
       "<style scoped>\n",
       "    .dataframe tbody tr th:only-of-type {\n",
       "        vertical-align: middle;\n",
       "    }\n",
       "\n",
       "    .dataframe tbody tr th {\n",
       "        vertical-align: top;\n",
       "    }\n",
       "\n",
       "    .dataframe thead th {\n",
       "        text-align: right;\n",
       "    }\n",
       "</style>\n",
       "<table border=\"1\" class=\"dataframe\">\n",
       "  <thead>\n",
       "    <tr style=\"text-align: right;\">\n",
       "      <th></th>\n",
       "      <th>Property Name</th>\n",
       "      <th>Review Title</th>\n",
       "      <th>Review Text</th>\n",
       "      <th>Location Of The Reviewer</th>\n",
       "      <th>Date Of Review</th>\n",
       "    </tr>\n",
       "    <tr>\n",
       "      <th>Review Rating</th>\n",
       "      <th></th>\n",
       "      <th></th>\n",
       "      <th></th>\n",
       "      <th></th>\n",
       "      <th></th>\n",
       "    </tr>\n",
       "  </thead>\n",
       "  <tbody>\n",
       "    <tr>\n",
       "      <th>1.0</th>\n",
       "      <td>Corinthia Hotel London</td>\n",
       "      <td>Staff stole from me!!</td>\n",
       "      <td>Well I am no strange to London's 5star hotels ...</td>\n",
       "      <td>Newport Beach, California</td>\n",
       "      <td>03-01-2013</td>\n",
       "    </tr>\n",
       "    <tr>\n",
       "      <th>2.0</th>\n",
       "      <td>The Savoy</td>\n",
       "      <td>what a disappointment</td>\n",
       "      <td>was so looking forward to staying here had hig...</td>\n",
       "      <td>Derby, United Kingdom</td>\n",
       "      <td>06-05-2016</td>\n",
       "    </tr>\n",
       "    <tr>\n",
       "      <th>3.0</th>\n",
       "      <td>Mondrian London at Sea Containers</td>\n",
       "      <td>Nice rooms but not quite wow</td>\n",
       "      <td>Nice visit but didn't feel special. Upgraded t...</td>\n",
       "      <td>Woking</td>\n",
       "      <td>5/31/2016</td>\n",
       "    </tr>\n",
       "    <tr>\n",
       "      <th>4.0</th>\n",
       "      <td>Rhodes Hotel</td>\n",
       "      <td>Nice stay</td>\n",
       "      <td>3 of us stayed at the Rhodes Hotel for 4 night...</td>\n",
       "      <td>Maui, Hawaii</td>\n",
       "      <td>06-02-2012</td>\n",
       "    </tr>\n",
       "    <tr>\n",
       "      <th>5.0</th>\n",
       "      <td>Apex London Wall Hotel</td>\n",
       "      <td>Ottima qualità prezzo</td>\n",
       "      <td>Siamo stati a Londra per un week end ed abbiam...</td>\n",
       "      <td>Casale Monferrato, Italy</td>\n",
       "      <td>10/20/2012</td>\n",
       "    </tr>\n",
       "  </tbody>\n",
       "</table>\n",
       "</div>"
      ],
      "text/plain": [
       "                                   Property Name  \\\n",
       "Review Rating                                      \n",
       "1.0                       Corinthia Hotel London   \n",
       "2.0                                    The Savoy   \n",
       "3.0            Mondrian London at Sea Containers   \n",
       "4.0                                 Rhodes Hotel   \n",
       "5.0                       Apex London Wall Hotel   \n",
       "\n",
       "                               Review Title  \\\n",
       "Review Rating                                 \n",
       "1.0                   Staff stole from me!!   \n",
       "2.0                   what a disappointment   \n",
       "3.0            Nice rooms but not quite wow   \n",
       "4.0                               Nice stay   \n",
       "5.0                   Ottima qualità prezzo   \n",
       "\n",
       "                                                     Review Text  \\\n",
       "Review Rating                                                      \n",
       "1.0            Well I am no strange to London's 5star hotels ...   \n",
       "2.0            was so looking forward to staying here had hig...   \n",
       "3.0            Nice visit but didn't feel special. Upgraded t...   \n",
       "4.0            3 of us stayed at the Rhodes Hotel for 4 night...   \n",
       "5.0            Siamo stati a Londra per un week end ed abbiam...   \n",
       "\n",
       "                Location Of The Reviewer Date Of Review  \n",
       "Review Rating                                            \n",
       "1.0            Newport Beach, California     03-01-2013  \n",
       "2.0                Derby, United Kingdom     06-05-2016  \n",
       "3.0                               Woking      5/31/2016  \n",
       "4.0                         Maui, Hawaii     06-02-2012  \n",
       "5.0             Casale Monferrato, Italy     10/20/2012  "
      ]
     },
     "execution_count": 63,
     "metadata": {},
     "output_type": "execute_result"
    }
   ],
   "source": [
    "gy.first()"
   ]
  },
  {
   "cell_type": "code",
   "execution_count": 64,
   "id": "1e0e359a",
   "metadata": {},
   "outputs": [
    {
     "data": {
      "text/html": [
       "<div>\n",
       "<style scoped>\n",
       "    .dataframe tbody tr th:only-of-type {\n",
       "        vertical-align: middle;\n",
       "    }\n",
       "\n",
       "    .dataframe tbody tr th {\n",
       "        vertical-align: top;\n",
       "    }\n",
       "\n",
       "    .dataframe thead th {\n",
       "        text-align: right;\n",
       "    }\n",
       "</style>\n",
       "<table border=\"1\" class=\"dataframe\">\n",
       "  <thead>\n",
       "    <tr style=\"text-align: right;\">\n",
       "      <th></th>\n",
       "      <th>Property Name</th>\n",
       "      <th>Review Rating</th>\n",
       "      <th>Review Title</th>\n",
       "      <th>Review Text</th>\n",
       "      <th>Location Of The Reviewer</th>\n",
       "      <th>Date Of Review</th>\n",
       "    </tr>\n",
       "  </thead>\n",
       "  <tbody>\n",
       "    <tr>\n",
       "      <th>0</th>\n",
       "      <td>Apex London Wall Hotel</td>\n",
       "      <td>5.0</td>\n",
       "      <td>Ottima qualità prezzo</td>\n",
       "      <td>Siamo stati a Londra per un week end ed abbiam...</td>\n",
       "      <td>Casale Monferrato, Italy</td>\n",
       "      <td>10/20/2012</td>\n",
       "    </tr>\n",
       "    <tr>\n",
       "      <th>1</th>\n",
       "      <td>Corinthia Hotel London</td>\n",
       "      <td>5.0</td>\n",
       "      <td>By far, my best hotel in the world</td>\n",
       "      <td>I had a pleasure of staying in this hotel for ...</td>\n",
       "      <td>Savannah, Georgia</td>\n",
       "      <td>3/23/2016</td>\n",
       "    </tr>\n",
       "    <tr>\n",
       "      <th>2</th>\n",
       "      <td>The Savoy</td>\n",
       "      <td>5.0</td>\n",
       "      <td>First visit to the American Bar at the Savoy</td>\n",
       "      <td>A very lovely first visit to this iconic hotel...</td>\n",
       "      <td>London</td>\n",
       "      <td>7/30/2013</td>\n",
       "    </tr>\n",
       "    <tr>\n",
       "      <th>4</th>\n",
       "      <td>The Savoy</td>\n",
       "      <td>5.0</td>\n",
       "      <td>Perfection</td>\n",
       "      <td>Form the moment we arrived until we left we ex...</td>\n",
       "      <td>London, United Kingdom</td>\n",
       "      <td>11/24/2017</td>\n",
       "    </tr>\n",
       "    <tr>\n",
       "      <th>6</th>\n",
       "      <td>Apex London Wall Hotel</td>\n",
       "      <td>5.0</td>\n",
       "      <td>Great customer service and comfy bed</td>\n",
       "      <td>The hotel staff were very helpful, I booked th...</td>\n",
       "      <td>Lostwithiel, United Kingdom</td>\n",
       "      <td>10/22/2017</td>\n",
       "    </tr>\n",
       "  </tbody>\n",
       "</table>\n",
       "</div>"
      ],
      "text/plain": [
       "            Property Name  Review Rating  \\\n",
       "0  Apex London Wall Hotel            5.0   \n",
       "1  Corinthia Hotel London            5.0   \n",
       "2               The Savoy            5.0   \n",
       "4               The Savoy            5.0   \n",
       "6  Apex London Wall Hotel            5.0   \n",
       "\n",
       "                                   Review Title  \\\n",
       "0                         Ottima qualità prezzo   \n",
       "1            By far, my best hotel in the world   \n",
       "2  First visit to the American Bar at the Savoy   \n",
       "4                                    Perfection   \n",
       "6          Great customer service and comfy bed   \n",
       "\n",
       "                                         Review Text  \\\n",
       "0  Siamo stati a Londra per un week end ed abbiam...   \n",
       "1  I had a pleasure of staying in this hotel for ...   \n",
       "2  A very lovely first visit to this iconic hotel...   \n",
       "4  Form the moment we arrived until we left we ex...   \n",
       "6  The hotel staff were very helpful, I booked th...   \n",
       "\n",
       "      Location Of The Reviewer Date Of Review  \n",
       "0     Casale Monferrato, Italy     10/20/2012  \n",
       "1            Savannah, Georgia      3/23/2016  \n",
       "2                       London      7/30/2013  \n",
       "4       London, United Kingdom     11/24/2017  \n",
       "6  Lostwithiel, United Kingdom     10/22/2017  "
      ]
     },
     "execution_count": 64,
     "metadata": {},
     "output_type": "execute_result"
    }
   ],
   "source": [
    "gy.get_group(5).head()"
   ]
  },
  {
   "cell_type": "code",
   "execution_count": 28,
   "id": "20e91bf1",
   "metadata": {},
   "outputs": [],
   "source": [
    "#df1 = pd.DataFrame(columns= [\"Review Title\",\"Review Rating\",\"Postive Score\",\"Neutral Score\",\"Negative Score\"])\n"
   ]
  },
  {
   "cell_type": "code",
   "execution_count": 29,
   "id": "1e7d94e7",
   "metadata": {},
   "outputs": [],
   "source": [
    "#df2 = pd.DataFrame(columns= [\"Review Title\",\"Review Rating\",\"Postive Score\",\"Neutral Score\",\"Negative Score\"])"
   ]
  },
  {
   "cell_type": "code",
   "execution_count": 65,
   "id": "89b050ce",
   "metadata": {},
   "outputs": [],
   "source": [
    "from googletrans import Translator\n",
    "\n",
    "import nltk\n",
    "from nltk.tokenize import word_tokenize\n",
    "from nltk.corpus import stopwords\n",
    "\n",
    "from nltk.sentiment.vader import SentimentIntensityAnalyzer"
   ]
  },
  {
   "cell_type": "code",
   "execution_count": 66,
   "id": "21b16389",
   "metadata": {},
   "outputs": [],
   "source": [
    "\n",
    "review = new_df[\"Review Text\"]\n",
    "\n",
    "translator = Translator()\n",
    "\n",
    "stop_words = set(stopwords.words('english'))"
   ]
  },
  {
   "cell_type": "code",
   "execution_count": 32,
   "id": "3566c503",
   "metadata": {},
   "outputs": [
    {
     "ename": "NameError",
     "evalue": "name 'df2' is not defined",
     "output_type": "error",
     "traceback": [
      "\u001b[1;31m---------------------------------------------------------------------------\u001b[0m",
      "\u001b[1;31mNameError\u001b[0m                                 Traceback (most recent call last)",
      "Input \u001b[1;32mIn [32]\u001b[0m, in \u001b[0;36m<cell line: 3>\u001b[1;34m()\u001b[0m\n\u001b[0;32m     54\u001b[0m len_neg \u001b[38;5;241m=\u001b[39m \u001b[38;5;28mlen\u001b[39m(neg_list)\n\u001b[0;32m     56\u001b[0m li \u001b[38;5;241m=\u001b[39m [t_rat1, rat1, len_pos, len_neu, len_neg]\n\u001b[1;32m---> 59\u001b[0m \u001b[43mdf2\u001b[49m\u001b[38;5;241m.\u001b[39mloc[x]\u001b[38;5;241m=\u001b[39mli\n",
      "\u001b[1;31mNameError\u001b[0m: name 'df2' is not defined"
     ]
    }
   ],
   "source": [
    "x=25871\n",
    "\n",
    "while x<27331: \n",
    "    if x not in [44,237, 505,658,922,1243,17429,19251]:\n",
    "        rat = new_df[\"Review Rating\"]\n",
    "        rat1 = rat[x]\n",
    "\n",
    "        t_rat = new_df[\"Review Title\"]\n",
    "        t_rat1 = t_rat[x]\n",
    "\n",
    "        text = review[x].split()\n",
    "\n",
    "        #text\n",
    "        ct = \" \".join(ch for ch in text if ch.isalnum())\n",
    "        #print(review)\n",
    "\n",
    "        translated_text = translator.translate(ct)\n",
    "        #print(translated_text.text)\n",
    "\n",
    "        trans_text = translated_text.text\n",
    "        #trans_text\n",
    "\n",
    "        token_text = word_tokenize(trans_text.lower())\n",
    "\n",
    "        #print(token_text)\n",
    "        #print(len(token_text))\n",
    "\n",
    "        fs = [ch for ch in token_text if not ch.lower() in stop_words]\n",
    "        #print(fs)\n",
    "        #print(len(fs)) #Filtered Sentence\n",
    "        fs1 = set(fs)\n",
    "        fsl = list(fs1)\n",
    "        #len(fsl)\n",
    "\n",
    "        sid = SentimentIntensityAnalyzer()\n",
    "        pos_list=[]\n",
    "        neu_list=[]\n",
    "        neg_list=[]\n",
    "\n",
    "        for word in fsl:\n",
    "            if (sid.polarity_scores(word)['compound']) >= 0.5:\n",
    "                pos_list.append(word)\n",
    "            elif (sid.polarity_scores(word)['compound']) <= -0.5:\n",
    "                neg_list.append(word)\n",
    "            else:\n",
    "                neu_list.append(word)                \n",
    "\n",
    "        #print('Positive :',pos_list)        \n",
    "        #print('Neutral :',neu_list)    \n",
    "        #print('Negative :',neg_list) \n",
    "\n",
    "        len_pos = len(pos_list)\n",
    "        len_neu = len(neu_list)\n",
    "        len_neg = len(neg_list)\n",
    "\n",
    "        li = [t_rat1, rat1, len_pos, len_neu, len_neg]\n",
    "\n",
    "\n",
    "        df2.loc[x]=li"
   ]
  },
  {
   "cell_type": "code",
   "execution_count": 33,
   "id": "6efb756e",
   "metadata": {},
   "outputs": [],
   "source": [
    "#df1.tail()"
   ]
  },
  {
   "cell_type": "code",
   "execution_count": 34,
   "id": "d624e152",
   "metadata": {},
   "outputs": [],
   "source": [
    "#df2.to_excel(\"Output1.xlsx\", index=False)"
   ]
  },
  {
   "cell_type": "code",
   "execution_count": 35,
   "id": "ce2a4745",
   "metadata": {},
   "outputs": [],
   "source": [
    "#import socket\n",
    "#socket.getaddrinfo('localhost', 8080)"
   ]
  },
  {
   "cell_type": "code",
   "execution_count": 36,
   "id": "d702275d",
   "metadata": {},
   "outputs": [],
   "source": [
    "#df2.tail()"
   ]
  },
  {
   "cell_type": "code",
   "execution_count": 2,
   "id": "8d2d7dc2",
   "metadata": {},
   "outputs": [],
   "source": [
    "data1 = pd.read_excel(\"Output_6555.xlsx\")"
   ]
  },
  {
   "cell_type": "code",
   "execution_count": 5,
   "id": "3d4f21f1",
   "metadata": {},
   "outputs": [
    {
     "data": {
      "text/html": [
       "<div>\n",
       "<style scoped>\n",
       "    .dataframe tbody tr th:only-of-type {\n",
       "        vertical-align: middle;\n",
       "    }\n",
       "\n",
       "    .dataframe tbody tr th {\n",
       "        vertical-align: top;\n",
       "    }\n",
       "\n",
       "    .dataframe thead th {\n",
       "        text-align: right;\n",
       "    }\n",
       "</style>\n",
       "<table border=\"1\" class=\"dataframe\">\n",
       "  <thead>\n",
       "    <tr style=\"text-align: right;\">\n",
       "      <th></th>\n",
       "      <th>Review Title</th>\n",
       "      <th>Review Rating</th>\n",
       "      <th>Postive Score</th>\n",
       "      <th>Neutral Score</th>\n",
       "      <th>Negative Score</th>\n",
       "    </tr>\n",
       "  </thead>\n",
       "  <tbody>\n",
       "    <tr>\n",
       "      <th>0</th>\n",
       "      <td>Ottima qualità prezzo</td>\n",
       "      <td>5</td>\n",
       "      <td>3</td>\n",
       "      <td>65</td>\n",
       "      <td>0</td>\n",
       "    </tr>\n",
       "    <tr>\n",
       "      <th>1</th>\n",
       "      <td>By far, my best hotel in the world</td>\n",
       "      <td>5</td>\n",
       "      <td>3</td>\n",
       "      <td>87</td>\n",
       "      <td>1</td>\n",
       "    </tr>\n",
       "    <tr>\n",
       "      <th>2</th>\n",
       "      <td>First visit to the American Bar at the Savoy</td>\n",
       "      <td>5</td>\n",
       "      <td>3</td>\n",
       "      <td>17</td>\n",
       "      <td>0</td>\n",
       "    </tr>\n",
       "    <tr>\n",
       "      <th>3</th>\n",
       "      <td>Nice stay</td>\n",
       "      <td>4</td>\n",
       "      <td>3</td>\n",
       "      <td>28</td>\n",
       "      <td>0</td>\n",
       "    </tr>\n",
       "    <tr>\n",
       "      <th>4</th>\n",
       "      <td>Perfection</td>\n",
       "      <td>5</td>\n",
       "      <td>3</td>\n",
       "      <td>25</td>\n",
       "      <td>0</td>\n",
       "    </tr>\n",
       "    <tr>\n",
       "      <th>...</th>\n",
       "      <td>...</td>\n",
       "      <td>...</td>\n",
       "      <td>...</td>\n",
       "      <td>...</td>\n",
       "      <td>...</td>\n",
       "    </tr>\n",
       "    <tr>\n",
       "      <th>6546</th>\n",
       "      <td>Grand as ever</td>\n",
       "      <td>4</td>\n",
       "      <td>0</td>\n",
       "      <td>39</td>\n",
       "      <td>0</td>\n",
       "    </tr>\n",
       "    <tr>\n",
       "      <th>6547</th>\n",
       "      <td>Bonne découverte</td>\n",
       "      <td>4</td>\n",
       "      <td>3</td>\n",
       "      <td>47</td>\n",
       "      <td>0</td>\n",
       "    </tr>\n",
       "    <tr>\n",
       "      <th>6548</th>\n",
       "      <td>Super suite!</td>\n",
       "      <td>5</td>\n",
       "      <td>4</td>\n",
       "      <td>23</td>\n",
       "      <td>0</td>\n",
       "    </tr>\n",
       "    <tr>\n",
       "      <th>6549</th>\n",
       "      <td>First class hotel with first class service</td>\n",
       "      <td>5</td>\n",
       "      <td>2</td>\n",
       "      <td>17</td>\n",
       "      <td>0</td>\n",
       "    </tr>\n",
       "    <tr>\n",
       "      <th>6550</th>\n",
       "      <td>One of the nicest hotels to stay in London if ...</td>\n",
       "      <td>5</td>\n",
       "      <td>3</td>\n",
       "      <td>42</td>\n",
       "      <td>0</td>\n",
       "    </tr>\n",
       "  </tbody>\n",
       "</table>\n",
       "<p>6551 rows × 5 columns</p>\n",
       "</div>"
      ],
      "text/plain": [
       "                                           Review Title  Review Rating  \\\n",
       "0                                 Ottima qualità prezzo              5   \n",
       "1                    By far, my best hotel in the world              5   \n",
       "2          First visit to the American Bar at the Savoy              5   \n",
       "3                                             Nice stay              4   \n",
       "4                                            Perfection              5   \n",
       "...                                                 ...            ...   \n",
       "6546                                      Grand as ever              4   \n",
       "6547                                   Bonne découverte              4   \n",
       "6548                                       Super suite!              5   \n",
       "6549         First class hotel with first class service              5   \n",
       "6550  One of the nicest hotels to stay in London if ...              5   \n",
       "\n",
       "      Postive Score  Neutral Score  Negative Score  \n",
       "0                 3             65               0  \n",
       "1                 3             87               1  \n",
       "2                 3             17               0  \n",
       "3                 3             28               0  \n",
       "4                 3             25               0  \n",
       "...             ...            ...             ...  \n",
       "6546              0             39               0  \n",
       "6547              3             47               0  \n",
       "6548              4             23               0  \n",
       "6549              2             17               0  \n",
       "6550              3             42               0  \n",
       "\n",
       "[6551 rows x 5 columns]"
      ]
     },
     "execution_count": 5,
     "metadata": {},
     "output_type": "execute_result"
    }
   ],
   "source": [
    "data1"
   ]
  },
  {
   "cell_type": "code",
   "execution_count": 3,
   "id": "b187ecbb",
   "metadata": {},
   "outputs": [],
   "source": [
    "data2 = pd.read_excel(\"Output1_6555to15000.xlsx\")"
   ]
  },
  {
   "cell_type": "code",
   "execution_count": 7,
   "id": "5413fe88",
   "metadata": {},
   "outputs": [
    {
     "data": {
      "text/html": [
       "<div>\n",
       "<style scoped>\n",
       "    .dataframe tbody tr th:only-of-type {\n",
       "        vertical-align: middle;\n",
       "    }\n",
       "\n",
       "    .dataframe tbody tr th {\n",
       "        vertical-align: top;\n",
       "    }\n",
       "\n",
       "    .dataframe thead th {\n",
       "        text-align: right;\n",
       "    }\n",
       "</style>\n",
       "<table border=\"1\" class=\"dataframe\">\n",
       "  <thead>\n",
       "    <tr style=\"text-align: right;\">\n",
       "      <th></th>\n",
       "      <th>Review Title</th>\n",
       "      <th>Review Rating</th>\n",
       "      <th>Postive Score</th>\n",
       "      <th>Neutral Score</th>\n",
       "      <th>Negative Score</th>\n",
       "    </tr>\n",
       "  </thead>\n",
       "  <tbody>\n",
       "    <tr>\n",
       "      <th>0</th>\n",
       "      <td>Impeccable hotel and service</td>\n",
       "      <td>5</td>\n",
       "      <td>2</td>\n",
       "      <td>87</td>\n",
       "      <td>0</td>\n",
       "    </tr>\n",
       "    <tr>\n",
       "      <th>1</th>\n",
       "      <td>Fantastic Afternoon Tea</td>\n",
       "      <td>5</td>\n",
       "      <td>2</td>\n",
       "      <td>31</td>\n",
       "      <td>0</td>\n",
       "    </tr>\n",
       "    <tr>\n",
       "      <th>2</th>\n",
       "      <td>great personalised service</td>\n",
       "      <td>5</td>\n",
       "      <td>2</td>\n",
       "      <td>18</td>\n",
       "      <td>0</td>\n",
       "    </tr>\n",
       "    <tr>\n",
       "      <th>3</th>\n",
       "      <td>The best night and morning of my life!</td>\n",
       "      <td>5</td>\n",
       "      <td>4</td>\n",
       "      <td>73</td>\n",
       "      <td>0</td>\n",
       "    </tr>\n",
       "    <tr>\n",
       "      <th>4</th>\n",
       "      <td>Brilliant New Southbank Hotel</td>\n",
       "      <td>5</td>\n",
       "      <td>4</td>\n",
       "      <td>36</td>\n",
       "      <td>0</td>\n",
       "    </tr>\n",
       "    <tr>\n",
       "      <th>...</th>\n",
       "      <td>...</td>\n",
       "      <td>...</td>\n",
       "      <td>...</td>\n",
       "      <td>...</td>\n",
       "      <td>...</td>\n",
       "    </tr>\n",
       "    <tr>\n",
       "      <th>8438</th>\n",
       "      <td>Would stay again if I could afford it!</td>\n",
       "      <td>5</td>\n",
       "      <td>2</td>\n",
       "      <td>55</td>\n",
       "      <td>0</td>\n",
       "    </tr>\n",
       "    <tr>\n",
       "      <th>8439</th>\n",
       "      <td>Lovely weekend break</td>\n",
       "      <td>5</td>\n",
       "      <td>1</td>\n",
       "      <td>44</td>\n",
       "      <td>0</td>\n",
       "    </tr>\n",
       "    <tr>\n",
       "      <th>8440</th>\n",
       "      <td>Penny, Sydney Australia</td>\n",
       "      <td>4</td>\n",
       "      <td>0</td>\n",
       "      <td>27</td>\n",
       "      <td>0</td>\n",
       "    </tr>\n",
       "    <tr>\n",
       "      <th>8441</th>\n",
       "      <td>London Weekend Trip</td>\n",
       "      <td>4</td>\n",
       "      <td>1</td>\n",
       "      <td>11</td>\n",
       "      <td>0</td>\n",
       "    </tr>\n",
       "    <tr>\n",
       "      <th>8442</th>\n",
       "      <td>One of the Best For the Price</td>\n",
       "      <td>5</td>\n",
       "      <td>1</td>\n",
       "      <td>30</td>\n",
       "      <td>0</td>\n",
       "    </tr>\n",
       "  </tbody>\n",
       "</table>\n",
       "<p>8443 rows × 5 columns</p>\n",
       "</div>"
      ],
      "text/plain": [
       "                                Review Title  Review Rating  Postive Score  \\\n",
       "0               Impeccable hotel and service              5              2   \n",
       "1                    Fantastic Afternoon Tea              5              2   \n",
       "2                 great personalised service              5              2   \n",
       "3     The best night and morning of my life!              5              4   \n",
       "4              Brilliant New Southbank Hotel              5              4   \n",
       "...                                      ...            ...            ...   \n",
       "8438  Would stay again if I could afford it!              5              2   \n",
       "8439                    Lovely weekend break              5              1   \n",
       "8440                 Penny, Sydney Australia              4              0   \n",
       "8441                     London Weekend Trip              4              1   \n",
       "8442           One of the Best For the Price              5              1   \n",
       "\n",
       "      Neutral Score  Negative Score  \n",
       "0                87               0  \n",
       "1                31               0  \n",
       "2                18               0  \n",
       "3                73               0  \n",
       "4                36               0  \n",
       "...             ...             ...  \n",
       "8438             55               0  \n",
       "8439             44               0  \n",
       "8440             27               0  \n",
       "8441             11               0  \n",
       "8442             30               0  \n",
       "\n",
       "[8443 rows x 5 columns]"
      ]
     },
     "execution_count": 7,
     "metadata": {},
     "output_type": "execute_result"
    }
   ],
   "source": [
    "data2"
   ]
  },
  {
   "cell_type": "code",
   "execution_count": 4,
   "id": "d0b4d535",
   "metadata": {},
   "outputs": [
    {
     "data": {
      "text/html": [
       "<div>\n",
       "<style scoped>\n",
       "    .dataframe tbody tr th:only-of-type {\n",
       "        vertical-align: middle;\n",
       "    }\n",
       "\n",
       "    .dataframe tbody tr th {\n",
       "        vertical-align: top;\n",
       "    }\n",
       "\n",
       "    .dataframe thead th {\n",
       "        text-align: right;\n",
       "    }\n",
       "</style>\n",
       "<table border=\"1\" class=\"dataframe\">\n",
       "  <thead>\n",
       "    <tr style=\"text-align: right;\">\n",
       "      <th></th>\n",
       "      <th>Review Title</th>\n",
       "      <th>Review Rating</th>\n",
       "      <th>Postive Score</th>\n",
       "      <th>Neutral Score</th>\n",
       "      <th>Negative Score</th>\n",
       "    </tr>\n",
       "  </thead>\n",
       "  <tbody>\n",
       "    <tr>\n",
       "      <th>0</th>\n",
       "      <td>One of the Best For the Price</td>\n",
       "      <td>5</td>\n",
       "      <td>1</td>\n",
       "      <td>30</td>\n",
       "      <td>0</td>\n",
       "    </tr>\n",
       "    <tr>\n",
       "      <th>1</th>\n",
       "      <td>Traditional and serious 5* hotel</td>\n",
       "      <td>5</td>\n",
       "      <td>6</td>\n",
       "      <td>136</td>\n",
       "      <td>1</td>\n",
       "    </tr>\n",
       "    <tr>\n",
       "      <th>2</th>\n",
       "      <td>Congratulations!!</td>\n",
       "      <td>5</td>\n",
       "      <td>2</td>\n",
       "      <td>30</td>\n",
       "      <td>0</td>\n",
       "    </tr>\n",
       "    <tr>\n",
       "      <th>3</th>\n",
       "      <td>Fantastic location for the budget traveler</td>\n",
       "      <td>4</td>\n",
       "      <td>2</td>\n",
       "      <td>20</td>\n",
       "      <td>0</td>\n",
       "    </tr>\n",
       "    <tr>\n",
       "      <th>4</th>\n",
       "      <td>perfect</td>\n",
       "      <td>5</td>\n",
       "      <td>2</td>\n",
       "      <td>41</td>\n",
       "      <td>0</td>\n",
       "    </tr>\n",
       "    <tr>\n",
       "      <th>...</th>\n",
       "      <td>...</td>\n",
       "      <td>...</td>\n",
       "      <td>...</td>\n",
       "      <td>...</td>\n",
       "      <td>...</td>\n",
       "    </tr>\n",
       "    <tr>\n",
       "      <th>12323</th>\n",
       "      <td>The Best 5 star Luxury Hotel in London</td>\n",
       "      <td>5</td>\n",
       "      <td>1</td>\n",
       "      <td>18</td>\n",
       "      <td>0</td>\n",
       "    </tr>\n",
       "    <tr>\n",
       "      <th>12324</th>\n",
       "      <td>Mala Estadia</td>\n",
       "      <td>3</td>\n",
       "      <td>0</td>\n",
       "      <td>28</td>\n",
       "      <td>0</td>\n",
       "    </tr>\n",
       "    <tr>\n",
       "      <th>12325</th>\n",
       "      <td>Excellent hotel in outstanding location</td>\n",
       "      <td>4</td>\n",
       "      <td>1</td>\n",
       "      <td>23</td>\n",
       "      <td>0</td>\n",
       "    </tr>\n",
       "    <tr>\n",
       "      <th>12326</th>\n",
       "      <td>Trevliga rum, men högljud AC</td>\n",
       "      <td>4</td>\n",
       "      <td>1</td>\n",
       "      <td>17</td>\n",
       "      <td>0</td>\n",
       "    </tr>\n",
       "    <tr>\n",
       "      <th>12327</th>\n",
       "      <td>Great as always</td>\n",
       "      <td>5</td>\n",
       "      <td>0</td>\n",
       "      <td>28</td>\n",
       "      <td>0</td>\n",
       "    </tr>\n",
       "  </tbody>\n",
       "</table>\n",
       "<p>12328 rows × 5 columns</p>\n",
       "</div>"
      ],
      "text/plain": [
       "                                     Review Title  Review Rating  \\\n",
       "0                   One of the Best For the Price              5   \n",
       "1                Traditional and serious 5* hotel              5   \n",
       "2                               Congratulations!!              5   \n",
       "3      Fantastic location for the budget traveler              4   \n",
       "4                                         perfect              5   \n",
       "...                                           ...            ...   \n",
       "12323      The Best 5 star Luxury Hotel in London              5   \n",
       "12324                                Mala Estadia              3   \n",
       "12325     Excellent hotel in outstanding location              4   \n",
       "12326                Trevliga rum, men högljud AC              4   \n",
       "12327                             Great as always              5   \n",
       "\n",
       "       Postive Score  Neutral Score  Negative Score  \n",
       "0                  1             30               0  \n",
       "1                  6            136               1  \n",
       "2                  2             30               0  \n",
       "3                  2             20               0  \n",
       "4                  2             41               0  \n",
       "...              ...            ...             ...  \n",
       "12323              1             18               0  \n",
       "12324              0             28               0  \n",
       "12325              1             23               0  \n",
       "12326              1             17               0  \n",
       "12327              0             28               0  \n",
       "\n",
       "[12328 rows x 5 columns]"
      ]
     },
     "execution_count": 4,
     "metadata": {},
     "output_type": "execute_result"
    }
   ],
   "source": [
    "data3 = pd.read_excel(\"Output1_15000 to 27377.xlsx\")\n",
    "data3"
   ]
  },
  {
   "cell_type": "code",
   "execution_count": 5,
   "id": "eae8e6b9",
   "metadata": {},
   "outputs": [],
   "source": [
    "data_f = pd.concat([data1, data2, data3])"
   ]
  },
  {
   "cell_type": "code",
   "execution_count": 6,
   "id": "d4061e61",
   "metadata": {
    "scrolled": true
   },
   "outputs": [
    {
     "data": {
      "text/plain": [
       "5    18325\n",
       "4     6015\n",
       "3     1675\n",
       "2      691\n",
       "1      616\n",
       "Name: Review Rating, dtype: int64"
      ]
     },
     "execution_count": 6,
     "metadata": {},
     "output_type": "execute_result"
    }
   ],
   "source": [
    "data_f['Review Rating'].value_counts()"
   ]
  },
  {
   "cell_type": "code",
   "execution_count": 8,
   "id": "d41390c2",
   "metadata": {},
   "outputs": [
    {
     "name": "stderr",
     "output_type": "stream",
     "text": [
      "D:\\Lucifer\\Anaconda\\lib\\site-packages\\seaborn\\_decorators.py:36: FutureWarning: Pass the following variable as a keyword arg: x. From version 0.12, the only valid positional argument will be `data`, and passing other arguments without an explicit keyword will result in an error or misinterpretation.\n",
      "  warnings.warn(\n"
     ]
    },
    {
     "data": {
      "text/plain": [
       "<AxesSubplot:xlabel='Review Rating', ylabel='count'>"
      ]
     },
     "execution_count": 8,
     "metadata": {},
     "output_type": "execute_result"
    },
    {
     "data": {
      "image/png": "[encoded data removed]",
      "text/plain": [
       "<Figure size 432x288 with 1 Axes>"
      ]
     },
     "metadata": {
      "needs_background": "light"
     },
     "output_type": "display_data"
    }
   ],
   "source": [
    "import seaborn as sns\n",
    "sns_pp = sns.countplot(data_f['Review Rating'])\n",
    "sns_pp\n"
   ]
  },
  {
   "cell_type": "code",
   "execution_count": 9,
   "id": "df307df9",
   "metadata": {},
   "outputs": [
    {
     "data": {
      "text/plain": [
       "(27322, 5)"
      ]
     },
     "execution_count": 9,
     "metadata": {},
     "output_type": "execute_result"
    }
   ],
   "source": [
    "data_f.shape"
   ]
  },
  {
   "cell_type": "code",
   "execution_count": null,
   "id": "063ddfea",
   "metadata": {},
   "outputs": [],
   "source": [
    "data_upsampled.shape"
   ]
  },
  {
   "cell_type": "code",
   "execution_count": null,
   "id": "8f71b1b9",
   "metadata": {},
   "outputs": [],
   "source": [
    "data_upsampled[\"Review Rating\"].value_counts()"
   ]
  },
  {
   "cell_type": "code",
   "execution_count": null,
   "id": "c1d4d3d5",
   "metadata": {},
   "outputs": [],
   "source": [
    "data_upsampled.head()"
   ]
  },
  {
   "cell_type": "code",
   "execution_count": 10,
   "id": "46301354",
   "metadata": {},
   "outputs": [],
   "source": [
    "from sklearn.model_selection import train_test_split\n",
    "from sklearn.tree import DecisionTreeClassifier\n",
    "from sklearn.ensemble import RandomForestClassifier\n",
    "from sklearn.metrics import accuracy_score, confusion_matrix, classification_report\n",
    "\n",
    "from sklearn import svm"
   ]
  },
  {
   "cell_type": "code",
   "execution_count": 42,
   "id": "281aafd1",
   "metadata": {},
   "outputs": [],
   "source": [
    "X = data_f[[\"Postive Score\", \"Negative Score\", \"Neutral Score\"]]"
   ]
  },
  {
   "cell_type": "code",
   "execution_count": 43,
   "id": "80311e56",
   "metadata": {},
   "outputs": [],
   "source": [
    "y = data_f[\"Review Rating\"]"
   ]
  },
  {
   "cell_type": "code",
   "execution_count": 44,
   "id": "c9a57fff",
   "metadata": {},
   "outputs": [],
   "source": [
    "X_train, X_test, y_train, y_test = train_test_split(X, y, random_state=0, stratify=y, test_size=0.2)"
   ]
  },
  {
   "cell_type": "code",
   "execution_count": 45,
   "id": "8db91d1f",
   "metadata": {},
   "outputs": [
    {
     "name": "stdout",
     "output_type": "stream",
     "text": [
      "(21857, 3) (5465, 3) (21857,) (5465,)\n"
     ]
    }
   ],
   "source": [
    "print(X_train.shape, X_test.shape, y_train.shape, y_test.shape)"
   ]
  },
  {
   "cell_type": "code",
   "execution_count": 47,
   "id": "d045635f",
   "metadata": {},
   "outputs": [],
   "source": [
    "model = DecisionTreeClassifier()"
   ]
  },
  {
   "cell_type": "code",
   "execution_count": 48,
   "id": "d1b78986",
   "metadata": {},
   "outputs": [
    {
     "data": {
      "text/plain": [
       "DecisionTreeClassifier()"
      ]
     },
     "execution_count": 48,
     "metadata": {},
     "output_type": "execute_result"
    }
   ],
   "source": [
    "model.fit(X_train,y_train)"
   ]
  },
  {
   "cell_type": "code",
   "execution_count": 49,
   "id": "d08e4bfe",
   "metadata": {},
   "outputs": [],
   "source": [
    "y_pred_test = model.predict(X_test)"
   ]
  },
  {
   "cell_type": "code",
   "execution_count": 50,
   "id": "c25b738b",
   "metadata": {},
   "outputs": [
    {
     "data": {
      "text/plain": [
       "0.6554437328453797"
      ]
     },
     "execution_count": 50,
     "metadata": {},
     "output_type": "execute_result"
    }
   ],
   "source": [
    "acc = accuracy_score(y_pred_test, y_test)\n",
    "acc"
   ]
  },
  {
   "cell_type": "code",
   "execution_count": 51,
   "id": "4b5b1773",
   "metadata": {},
   "outputs": [],
   "source": [
    "y_pred_train = model.predict(X_train)"
   ]
  },
  {
   "cell_type": "code",
   "execution_count": 52,
   "id": "faa73da2",
   "metadata": {},
   "outputs": [
    {
     "data": {
      "text/plain": [
       "0.7104360159216727"
      ]
     },
     "execution_count": 52,
     "metadata": {},
     "output_type": "execute_result"
    }
   ],
   "source": [
    "acc1 = accuracy_score(y_pred_train, y_train)\n",
    "acc1"
   ]
  },
  {
   "cell_type": "code",
   "execution_count": 53,
   "id": "60b1a5b0",
   "metadata": {},
   "outputs": [
    {
     "name": "stdout",
     "output_type": "stream",
     "text": [
      "              precision    recall  f1-score   support\n",
      "\n",
      "           1       0.17      0.25      0.20        85\n",
      "           2       0.04      0.11      0.06        53\n",
      "           3       0.06      0.22      0.10        96\n",
      "           4       0.08      0.28      0.12       340\n",
      "           5       0.94      0.70      0.80      4891\n",
      "\n",
      "    accuracy                           0.66      5465\n",
      "   macro avg       0.26      0.31      0.26      5465\n",
      "weighted avg       0.85      0.66      0.73      5465\n",
      "\n"
     ]
    }
   ],
   "source": [
    "cr_test = classification_report(y_pred_test, y_test)\n",
    "print(cr_test)"
   ]
  },
  {
   "cell_type": "code",
   "execution_count": 54,
   "id": "83622f18",
   "metadata": {},
   "outputs": [],
   "source": [
    "import pickle"
   ]
  },
  {
   "cell_type": "code",
   "execution_count": 55,
   "id": "f94623a5",
   "metadata": {},
   "outputs": [],
   "source": [
    "filename=\"trained_model.sav\"\n",
    "pickle.dump(model,open(filename,'wb'))"
   ]
  },
  {
   "cell_type": "code",
   "execution_count": 57,
   "id": "f701ffa9",
   "metadata": {},
   "outputs": [],
   "source": [
    "#Loading the saved model\n",
    "model_load = pickle.load(open('trained_model.sav','rb'))"
   ]
  },
  {
   "cell_type": "code",
   "execution_count": 80,
   "id": "889fa8a2",
   "metadata": {},
   "outputs": [
    {
     "name": "stdout",
     "output_type": "stream",
     "text": [
      "I am excellent student *&*\n"
     ]
    }
   ],
   "source": [
    "a = input()"
   ]
  },
  {
   "cell_type": "code",
   "execution_count": 81,
   "id": "7e656c8c",
   "metadata": {},
   "outputs": [
    {
     "data": {
      "text/plain": [
       "'I am excellent student *&*'"
      ]
     },
     "execution_count": 81,
     "metadata": {},
     "output_type": "execute_result"
    }
   ],
   "source": [
    "a"
   ]
  },
  {
   "cell_type": "code",
   "execution_count": 82,
   "id": "2d10dbf4",
   "metadata": {},
   "outputs": [],
   "source": [
    "text = a.split()"
   ]
  },
  {
   "cell_type": "code",
   "execution_count": 83,
   "id": "e8ae8afa",
   "metadata": {},
   "outputs": [],
   "source": [
    "ct = \" \".join(ch for ch in text if ch.isalnum())"
   ]
  },
  {
   "cell_type": "code",
   "execution_count": 84,
   "id": "0d69970d",
   "metadata": {},
   "outputs": [],
   "source": [
    "translated_text = translator.translate(ct)"
   ]
  },
  {
   "cell_type": "code",
   "execution_count": 85,
   "id": "d4a7d8cd",
   "metadata": {},
   "outputs": [],
   "source": [
    "trans_text = translated_text.text\n",
    "token_text = word_tokenize(trans_text.lower())"
   ]
  },
  {
   "cell_type": "code",
   "execution_count": 86,
   "id": "09472030",
   "metadata": {},
   "outputs": [],
   "source": [
    "fs = [ch for ch in token_text if not ch.lower() in stop_words]\n",
    "#print(fs)\n",
    "#print(len(fs)) #Filtered Sentence\n",
    "fs1 = set(fs)\n",
    "fsl = list(fs1)"
   ]
  },
  {
   "cell_type": "code",
   "execution_count": 101,
   "id": "239e433b",
   "metadata": {},
   "outputs": [
    {
     "name": "stdout",
     "output_type": "stream",
     "text": [
      "Positive : ['excellent']\n",
      "Neutral : ['student']\n",
      "Negative : []\n"
     ]
    },
    {
     "data": {
      "text/plain": [
       "[[1, 1, 0]]"
      ]
     },
     "execution_count": 101,
     "metadata": {},
     "output_type": "execute_result"
    }
   ],
   "source": [
    "sid = SentimentIntensityAnalyzer()\n",
    "pos_list=[]\n",
    "neu_list=[]\n",
    "neg_list=[]\n",
    "\n",
    "for word in fsl:\n",
    "    if (sid.polarity_scores(word)['compound']) >= 0.5:\n",
    "        pos_list.append(word)\n",
    "    elif (sid.polarity_scores(word)['compound']) <= -0.5:\n",
    "        neg_list.append(word)\n",
    "    else:\n",
    "        neu_list.append(word)                \n",
    "\n",
    "print('Positive :',pos_list)        \n",
    "print('Neutral :',neu_list)    \n",
    "print('Negative :',neg_list) \n",
    "\n",
    "len_pos = len(pos_list)\n",
    "len_neu = len(neu_list)\n",
    "len_neg = len(neg_list)\n",
    "\n",
    "li = [[len_pos, len_neu, len_neg]]\n",
    "li"
   ]
  },
  {
   "cell_type": "code",
   "execution_count": 102,
   "id": "c08169db",
   "metadata": {},
   "outputs": [],
   "source": [
    "lm = pd.DataFrame(li)"
   ]
  },
  {
   "cell_type": "code",
   "execution_count": 103,
   "id": "74a7f2e5",
   "metadata": {},
   "outputs": [
    {
     "data": {
      "text/html": [
       "<div>\n",
       "<style scoped>\n",
       "    .dataframe tbody tr th:only-of-type {\n",
       "        vertical-align: middle;\n",
       "    }\n",
       "\n",
       "    .dataframe tbody tr th {\n",
       "        vertical-align: top;\n",
       "    }\n",
       "\n",
       "    .dataframe thead th {\n",
       "        text-align: right;\n",
       "    }\n",
       "</style>\n",
       "<table border=\"1\" class=\"dataframe\">\n",
       "  <thead>\n",
       "    <tr style=\"text-align: right;\">\n",
       "      <th></th>\n",
       "      <th>0</th>\n",
       "      <th>1</th>\n",
       "      <th>2</th>\n",
       "    </tr>\n",
       "  </thead>\n",
       "  <tbody>\n",
       "    <tr>\n",
       "      <th>0</th>\n",
       "      <td>1</td>\n",
       "      <td>1</td>\n",
       "      <td>0</td>\n",
       "    </tr>\n",
       "  </tbody>\n",
       "</table>\n",
       "</div>"
      ],
      "text/plain": [
       "   0  1  2\n",
       "0  1  1  0"
      ]
     },
     "execution_count": 103,
     "metadata": {},
     "output_type": "execute_result"
    }
   ],
   "source": [
    "lm"
   ]
  },
  {
   "cell_type": "code",
   "execution_count": 104,
   "id": "8b1c9615",
   "metadata": {},
   "outputs": [
    {
     "name": "stderr",
     "output_type": "stream",
     "text": [
      "D:\\Lucifer\\Anaconda\\lib\\site-packages\\sklearn\\base.py:450: UserWarning: X does not have valid feature names, but DecisionTreeClassifier was fitted with feature names\n",
      "  warnings.warn(\n"
     ]
    },
    {
     "data": {
      "text/plain": [
       "array([3], dtype=int64)"
      ]
     },
     "execution_count": 104,
     "metadata": {},
     "output_type": "execute_result"
    }
   ],
   "source": [
    "model.predict(lm)"
   ]
  },
  {
   "cell_type": "code",
   "execution_count": 106,
   "id": "4866b117",
   "metadata": {},
   "outputs": [
    {
     "name": "stderr",
     "output_type": "stream",
     "text": [
      "D:\\Lucifer\\Anaconda\\lib\\site-packages\\sklearn\\base.py:450: UserWarning: X does not have valid feature names, but DecisionTreeClassifier was fitted with feature names\n",
      "  warnings.warn(\n"
     ]
    },
    {
     "data": {
      "text/plain": [
       "array([3], dtype=int64)"
      ]
     },
     "execution_count": 106,
     "metadata": {},
     "output_type": "execute_result"
    }
   ],
   "source": [
    "model_load.predict(li)"
   ]
  }
 ],
 "metadata": {
  "kernelspec": {
   "display_name": "Python 3 (ipykernel)",
   "language": "python",
   "name": "python3"
  },
  "language_info": {
   "codemirror_mode": {
    "name": "ipython",
    "version": 3
   },
   "file_extension": ".py",
   "mimetype": "text/x-python",
   "name": "python",
   "nbconvert_exporter": "python",
   "pygments_lexer": "ipython3",
   "version": "3.9.12"
  }
 },
 "nbformat": 4,
 "nbformat_minor": 5
}
